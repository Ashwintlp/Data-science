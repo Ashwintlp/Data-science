{
 "cells": [
  {
   "cell_type": "markdown",
   "metadata": {},
   "source": [
    "Fill valid code/values in place of blanks. "
   ]
  },
  {
   "cell_type": "code",
   "execution_count": 6,
   "metadata": {},
   "outputs": [],
   "source": [
    "# import required libraries\n",
    "import pandas as pd\n",
    "import numpy as np"
   ]
  },
  {
   "cell_type": "code",
   "execution_count": 3,
   "metadata": {},
   "outputs": [
    {
     "data": {
      "text/plain": [
       "22.0"
      ]
     },
     "execution_count": 3,
     "metadata": {},
     "output_type": "execute_result"
    }
   ],
   "source": [
    "scores = [29,27,14,23,29,10]\n",
    "\n",
    "# find the mean of all items of the list 'scores'\n",
    "np.mean(scores)"
   ]
  },
  {
   "cell_type": "code",
   "execution_count": 7,
   "metadata": {},
   "outputs": [
    {
     "data": {
      "text/plain": [
       "25.0"
      ]
     },
     "execution_count": 7,
     "metadata": {},
     "output_type": "execute_result"
    }
   ],
   "source": [
    "# find the median of all items of the list 'scores'\n",
    "np.median(scores)\n"
   ]
  },
  {
   "cell_type": "code",
   "execution_count": 22,
   "metadata": {},
   "outputs": [
    {
     "data": {
      "text/plain": [
       "'apple'"
      ]
     },
     "execution_count": 22,
     "metadata": {},
     "output_type": "execute_result"
    }
   ],
   "source": [
    "from statistics import mode\n",
    "\n",
    "fruits = ['apple', 'grapes', 'orange', 'apple']\n",
    "\n",
    "# find mode of the list 'fruits'\n",
    "mode(fruits)"
   ]
  },
  {
   "cell_type": "code",
   "execution_count": 9,
   "metadata": {},
   "outputs": [
    {
     "data": {
      "text/plain": [
       "907.24"
      ]
     },
     "execution_count": 9,
     "metadata": {},
     "output_type": "execute_result"
    }
   ],
   "source": [
    "from random import sample\n",
    "data = sample(range(1,100),50) # generating a list 50 random integers\n",
    "\n",
    "# find variance of data\n",
    "np.var(data)"
   ]
  },
  {
   "cell_type": "code",
   "execution_count": 10,
   "metadata": {},
   "outputs": [
    {
     "data": {
      "text/plain": [
       "30.120424963801558"
      ]
     },
     "execution_count": 10,
     "metadata": {},
     "output_type": "execute_result"
    }
   ],
   "source": [
    "# find standard deviation \n",
    "np.std(data)"
   ]
  },
  {
   "cell_type": "markdown",
   "metadata": {},
   "source": [
    "### Please download the file \"data_statistics.csv\"."
   ]
  },
  {
   "cell_type": "code",
   "execution_count": 7,
   "metadata": {},
   "outputs": [],
   "source": [
    "# read data_python.csv using pandas\n",
    "mydata = pd.read_csv(\"data_statistics.csv\")"
   ]
  },
  {
   "cell_type": "code",
   "execution_count": 58,
   "metadata": {
    "scrolled": true
   },
   "outputs": [
    {
     "data": {
      "text/html": [
       "<div>\n",
       "<style scoped>\n",
       "    .dataframe tbody tr th:only-of-type {\n",
       "        vertical-align: middle;\n",
       "    }\n",
       "\n",
       "    .dataframe tbody tr th {\n",
       "        vertical-align: top;\n",
       "    }\n",
       "\n",
       "    .dataframe thead th {\n",
       "        text-align: right;\n",
       "    }\n",
       "</style>\n",
       "<table border=\"1\" class=\"dataframe\">\n",
       "  <thead>\n",
       "    <tr style=\"text-align: right;\">\n",
       "      <th></th>\n",
       "      <th>Item_Identifier</th>\n",
       "      <th>Item_Weight</th>\n",
       "      <th>Item_Fat_Content</th>\n",
       "      <th>Item_Visibility</th>\n",
       "      <th>Item_Type</th>\n",
       "      <th>Item_MRP</th>\n",
       "      <th>Outlet_Identifier</th>\n",
       "      <th>Outlet_Establishment_Year</th>\n",
       "      <th>Outlet_Size</th>\n",
       "      <th>Outlet_Location_Type</th>\n",
       "      <th>Outlet_Type</th>\n",
       "      <th>Item_Outlet_Sales</th>\n",
       "    </tr>\n",
       "  </thead>\n",
       "  <tbody>\n",
       "    <tr>\n",
       "      <th>0</th>\n",
       "      <td>FDA15</td>\n",
       "      <td>9.300</td>\n",
       "      <td>Low Fat</td>\n",
       "      <td>0.016047</td>\n",
       "      <td>Dairy</td>\n",
       "      <td>249.8092</td>\n",
       "      <td>OUT049</td>\n",
       "      <td>1999</td>\n",
       "      <td>Medium</td>\n",
       "      <td>Tier 1</td>\n",
       "      <td>Supermarket Type1</td>\n",
       "      <td>3735.1380</td>\n",
       "    </tr>\n",
       "    <tr>\n",
       "      <th>1</th>\n",
       "      <td>DRC01</td>\n",
       "      <td>5.920</td>\n",
       "      <td>Regular</td>\n",
       "      <td>0.019278</td>\n",
       "      <td>Soft Drinks</td>\n",
       "      <td>48.2692</td>\n",
       "      <td>OUT018</td>\n",
       "      <td>2009</td>\n",
       "      <td>Medium</td>\n",
       "      <td>Tier 3</td>\n",
       "      <td>Supermarket Type2</td>\n",
       "      <td>443.4228</td>\n",
       "    </tr>\n",
       "    <tr>\n",
       "      <th>2</th>\n",
       "      <td>FDN15</td>\n",
       "      <td>17.500</td>\n",
       "      <td>Low Fat</td>\n",
       "      <td>0.016760</td>\n",
       "      <td>Meat</td>\n",
       "      <td>141.6180</td>\n",
       "      <td>OUT049</td>\n",
       "      <td>1999</td>\n",
       "      <td>Medium</td>\n",
       "      <td>Tier 1</td>\n",
       "      <td>Supermarket Type1</td>\n",
       "      <td>2097.2700</td>\n",
       "    </tr>\n",
       "    <tr>\n",
       "      <th>3</th>\n",
       "      <td>FDX07</td>\n",
       "      <td>19.200</td>\n",
       "      <td>Regular</td>\n",
       "      <td>0.000000</td>\n",
       "      <td>Fruits and Vegetables</td>\n",
       "      <td>182.0950</td>\n",
       "      <td>OUT010</td>\n",
       "      <td>1998</td>\n",
       "      <td>NaN</td>\n",
       "      <td>Tier 3</td>\n",
       "      <td>Grocery Store</td>\n",
       "      <td>732.3800</td>\n",
       "    </tr>\n",
       "    <tr>\n",
       "      <th>4</th>\n",
       "      <td>NCD19</td>\n",
       "      <td>8.930</td>\n",
       "      <td>Low Fat</td>\n",
       "      <td>0.000000</td>\n",
       "      <td>Household</td>\n",
       "      <td>53.8614</td>\n",
       "      <td>OUT013</td>\n",
       "      <td>1987</td>\n",
       "      <td>High</td>\n",
       "      <td>Tier 3</td>\n",
       "      <td>Supermarket Type1</td>\n",
       "      <td>994.7052</td>\n",
       "    </tr>\n",
       "    <tr>\n",
       "      <th>...</th>\n",
       "      <td>...</td>\n",
       "      <td>...</td>\n",
       "      <td>...</td>\n",
       "      <td>...</td>\n",
       "      <td>...</td>\n",
       "      <td>...</td>\n",
       "      <td>...</td>\n",
       "      <td>...</td>\n",
       "      <td>...</td>\n",
       "      <td>...</td>\n",
       "      <td>...</td>\n",
       "      <td>...</td>\n",
       "    </tr>\n",
       "    <tr>\n",
       "      <th>995</th>\n",
       "      <td>FDO34</td>\n",
       "      <td>17.700</td>\n",
       "      <td>Low Fat</td>\n",
       "      <td>0.050112</td>\n",
       "      <td>Snack Foods</td>\n",
       "      <td>165.9816</td>\n",
       "      <td>OUT010</td>\n",
       "      <td>1998</td>\n",
       "      <td>NaN</td>\n",
       "      <td>Tier 3</td>\n",
       "      <td>Grocery Store</td>\n",
       "      <td>167.7816</td>\n",
       "    </tr>\n",
       "    <tr>\n",
       "      <th>996</th>\n",
       "      <td>NCL30</td>\n",
       "      <td>18.100</td>\n",
       "      <td>Low Fat</td>\n",
       "      <td>0.048931</td>\n",
       "      <td>Household</td>\n",
       "      <td>127.3336</td>\n",
       "      <td>OUT035</td>\n",
       "      <td>2004</td>\n",
       "      <td>Small</td>\n",
       "      <td>Tier 2</td>\n",
       "      <td>Supermarket Type1</td>\n",
       "      <td>1150.5024</td>\n",
       "    </tr>\n",
       "    <tr>\n",
       "      <th>997</th>\n",
       "      <td>FDK28</td>\n",
       "      <td>5.695</td>\n",
       "      <td>Low Fat</td>\n",
       "      <td>0.065961</td>\n",
       "      <td>Frozen Foods</td>\n",
       "      <td>259.2646</td>\n",
       "      <td>OUT017</td>\n",
       "      <td>2007</td>\n",
       "      <td>NaN</td>\n",
       "      <td>Tier 2</td>\n",
       "      <td>Supermarket Type1</td>\n",
       "      <td>9275.9256</td>\n",
       "    </tr>\n",
       "    <tr>\n",
       "      <th>998</th>\n",
       "      <td>DRJ39</td>\n",
       "      <td>20.250</td>\n",
       "      <td>Low Fat</td>\n",
       "      <td>0.036319</td>\n",
       "      <td>Dairy</td>\n",
       "      <td>219.3482</td>\n",
       "      <td>OUT035</td>\n",
       "      <td>2004</td>\n",
       "      <td>Small</td>\n",
       "      <td>Tier 2</td>\n",
       "      <td>Supermarket Type1</td>\n",
       "      <td>5038.1086</td>\n",
       "    </tr>\n",
       "    <tr>\n",
       "      <th>999</th>\n",
       "      <td>NCP06</td>\n",
       "      <td>NaN</td>\n",
       "      <td>Low Fat</td>\n",
       "      <td>0.039056</td>\n",
       "      <td>Household</td>\n",
       "      <td>152.3366</td>\n",
       "      <td>OUT027</td>\n",
       "      <td>1985</td>\n",
       "      <td>Medium</td>\n",
       "      <td>Tier 3</td>\n",
       "      <td>Supermarket Type3</td>\n",
       "      <td>2115.9124</td>\n",
       "    </tr>\n",
       "  </tbody>\n",
       "</table>\n",
       "<p>1000 rows × 12 columns</p>\n",
       "</div>"
      ],
      "text/plain": [
       "    Item_Identifier  Item_Weight Item_Fat_Content  Item_Visibility  \\\n",
       "0             FDA15        9.300          Low Fat         0.016047   \n",
       "1             DRC01        5.920          Regular         0.019278   \n",
       "2             FDN15       17.500          Low Fat         0.016760   \n",
       "3             FDX07       19.200          Regular         0.000000   \n",
       "4             NCD19        8.930          Low Fat         0.000000   \n",
       "..              ...          ...              ...              ...   \n",
       "995           FDO34       17.700          Low Fat         0.050112   \n",
       "996           NCL30       18.100          Low Fat         0.048931   \n",
       "997           FDK28        5.695          Low Fat         0.065961   \n",
       "998           DRJ39       20.250          Low Fat         0.036319   \n",
       "999           NCP06          NaN          Low Fat         0.039056   \n",
       "\n",
       "                 Item_Type  Item_MRP Outlet_Identifier  \\\n",
       "0                    Dairy  249.8092            OUT049   \n",
       "1              Soft Drinks   48.2692            OUT018   \n",
       "2                     Meat  141.6180            OUT049   \n",
       "3    Fruits and Vegetables  182.0950            OUT010   \n",
       "4                Household   53.8614            OUT013   \n",
       "..                     ...       ...               ...   \n",
       "995            Snack Foods  165.9816            OUT010   \n",
       "996              Household  127.3336            OUT035   \n",
       "997           Frozen Foods  259.2646            OUT017   \n",
       "998                  Dairy  219.3482            OUT035   \n",
       "999              Household  152.3366            OUT027   \n",
       "\n",
       "     Outlet_Establishment_Year Outlet_Size Outlet_Location_Type  \\\n",
       "0                         1999      Medium               Tier 1   \n",
       "1                         2009      Medium               Tier 3   \n",
       "2                         1999      Medium               Tier 1   \n",
       "3                         1998         NaN               Tier 3   \n",
       "4                         1987        High               Tier 3   \n",
       "..                         ...         ...                  ...   \n",
       "995                       1998         NaN               Tier 3   \n",
       "996                       2004       Small               Tier 2   \n",
       "997                       2007         NaN               Tier 2   \n",
       "998                       2004       Small               Tier 2   \n",
       "999                       1985      Medium               Tier 3   \n",
       "\n",
       "           Outlet_Type  Item_Outlet_Sales  \n",
       "0    Supermarket Type1          3735.1380  \n",
       "1    Supermarket Type2           443.4228  \n",
       "2    Supermarket Type1          2097.2700  \n",
       "3        Grocery Store           732.3800  \n",
       "4    Supermarket Type1           994.7052  \n",
       "..                 ...                ...  \n",
       "995      Grocery Store           167.7816  \n",
       "996  Supermarket Type1          1150.5024  \n",
       "997  Supermarket Type1          9275.9256  \n",
       "998  Supermarket Type1          5038.1086  \n",
       "999  Supermarket Type3          2115.9124  \n",
       "\n",
       "[1000 rows x 12 columns]"
      ]
     },
     "execution_count": 58,
     "metadata": {},
     "output_type": "execute_result"
    }
   ],
   "source": [
    "# print first few rows of mydata\n",
    "mydata.head(1000)\n"
   ]
  },
  {
   "cell_type": "code",
   "execution_count": 25,
   "metadata": {},
   "outputs": [
    {
     "name": "stdout",
     "output_type": "stream",
     "text": [
      "0    Low Fat\n",
      "dtype: object\n"
     ]
    }
   ],
   "source": [
    "print(mydata['Item_Fat_Content'].mode())"
   ]
  },
  {
   "cell_type": "code",
   "execution_count": 27,
   "metadata": {},
   "outputs": [
    {
     "name": "stdout",
     "output_type": "stream",
     "text": [
      "8.076250000000002\n"
     ]
    }
   ],
   "source": [
    "q1=mydata['Item_Weight'].quantile(0.25)\n",
    "q3=mydata['Item_Weight'].quantile(0.75)\n",
    "iqr=q3-q1\n",
    "print(iqr)"
   ]
  },
  {
   "cell_type": "code",
   "execution_count": 30,
   "metadata": {},
   "outputs": [
    {
     "name": "stdout",
     "output_type": "stream",
     "text": [
      "21.558634196343476\n"
     ]
    },
    {
     "data": {
      "text/plain": [
       "4.643127630847927"
      ]
     },
     "execution_count": 30,
     "metadata": {},
     "output_type": "execute_result"
    }
   ],
   "source": [
    "mean=mydata['Item_Weight'].mean()\n",
    "deff=mydata['Item_Weight']-mean\n",
    "sqrd_dff=deff**2\n",
    "var=sqrd_dff.mean()\n",
    "print(var)\n",
    "std=var**(1/2)\n",
    "std"
   ]
  },
  {
   "cell_type": "code",
   "execution_count": 34,
   "metadata": {},
   "outputs": [
    {
     "data": {
      "text/plain": [
       "1985    1463\n",
       "1987     932\n",
       "1999     930\n",
       "1997     930\n",
       "2004     930\n",
       "2002     929\n",
       "2009     928\n",
       "2007     926\n",
       "1998     555\n",
       "Name: Outlet_Establishment_Year, dtype: int64"
      ]
     },
     "execution_count": 34,
     "metadata": {},
     "output_type": "execute_result"
    }
   ],
   "source": [
    "mydata['Outlet_Establishment_Year'].value_counts()"
   ]
  },
  {
   "cell_type": "code",
   "execution_count": 38,
   "metadata": {
    "scrolled": true
   },
   "outputs": [
    {
     "data": {
      "image/png": "[encoded data removed]",
      "text/plain": [
       "<Figure size 432x288 with 1 Axes>"
      ]
     },
     "metadata": {
      "needs_background": "light"
     },
     "output_type": "display_data"
    }
   ],
   "source": [
    "# plot histogram for 'Item_Outlet_Sale\n",
    "from matplotlib import pyplot as plt\n",
    "%matplotlib inline\n",
    "plt.hist(x='Item_Outlet_Sales',data=mydata)\n",
    "plt.show()"
   ]
  },
  {
   "cell_type": "code",
   "execution_count": 44,
   "metadata": {},
   "outputs": [
    {
     "data": {
      "image/png": "[encoded data removed]",
      "text/plain": [
       "<Figure size 432x288 with 1 Axes>"
      ]
     },
     "metadata": {
      "needs_background": "light"
     },
     "output_type": "display_data"
    }
   ],
   "source": [
    "# increadse no. of bins to 20\n",
    "plt.hist(mydata['Item_Outlet_Sales'], bins=20)\n",
    "plt.show()"
   ]
  },
  {
   "cell_type": "code",
   "execution_count": 45,
   "metadata": {},
   "outputs": [
    {
     "data": {
      "text/plain": [
       "(140.9927819781768, 143.0128)"
      ]
     },
     "execution_count": 45,
     "metadata": {},
     "output_type": "execute_result"
    }
   ],
   "source": [
    "# find mean and median of 'Item_Weight'\n",
    "np.mean(mydata['Item_MRP']), np.median(mydata['Item_MRP'])"
   ]
  },
  {
   "cell_type": "code",
   "execution_count": 66,
   "metadata": {},
   "outputs": [
    {
     "data": {
      "text/plain": [
       "0    Medium\n",
       "dtype: object"
      ]
     },
     "execution_count": 66,
     "metadata": {},
     "output_type": "execute_result"
    }
   ],
   "source": [
    "# find mode of 'Outlet_Size'\n",
    "from statistics import mode\n",
    "\n",
    "mydata['Outlet_Size'].mode()"
   ]
  },
  {
   "cell_type": "code",
   "execution_count": 52,
   "metadata": {},
   "outputs": [
    {
     "data": {
      "text/plain": [
       "Supermarket Type1    5577\n",
       "Grocery Store        1083\n",
       "Supermarket Type3     935\n",
       "Supermarket Type2     928\n",
       "Name: Outlet_Type, dtype: int64"
      ]
     },
     "execution_count": 52,
     "metadata": {},
     "output_type": "execute_result"
    }
   ],
   "source": [
    "# frequency table of 'Outlet_Type'\n",
    "mydata['Outlet_Type'].value_counts()"
   ]
  },
  {
   "cell_type": "code",
   "execution_count": 60,
   "metadata": {},
   "outputs": [
    {
     "data": {
      "text/plain": [
       "1995.4987392241392"
      ]
     },
     "execution_count": 60,
     "metadata": {},
     "output_type": "execute_result"
    }
   ],
   "source": [
    "# mean of 'Item_Outlet_Sales' for 'Supermarket Type2' outlet type\n",
    "np.mean(mydata['Item_Outlet_Sales'][mydata['Outlet_Type'] == 'Supermarket Type2'])"
   ]
  },
  {
   "cell_type": "code",
   "execution_count": 61,
   "metadata": {},
   "outputs": [
    {
     "data": {
      "text/plain": [
       "3694.038557647059"
      ]
     },
     "execution_count": 61,
     "metadata": {},
     "output_type": "execute_result"
    }
   ],
   "source": [
    "# mean of 'Item_Outlet_Sales' for 'Supermarket Type3' outlet type\n",
    "np.mean(mydata['Item_Outlet_Sales'][mydata['Outlet_Type'] == 'Supermarket Type3'])"
   ]
  },
  {
   "cell_type": "code",
   "execution_count": 16,
   "metadata": {},
   "outputs": [
    {
     "name": "stdout",
     "output_type": "stream",
     "text": [
      "Ttest_1sampResult(statistic=7      -44.883553\n",
      "18      -6.822854\n",
      "21     -45.797482\n",
      "36     -17.760514\n",
      "38      35.586377\n",
      "          ...    \n",
      "8472     7.564150\n",
      "8485   -94.456803\n",
      "8487   -46.844077\n",
      "8488   -16.846585\n",
      "8504   -47.448449\n",
      "Name: Item_Outlet_Sales, Length: 935, dtype: float64, pvalue=array([1.14230005e-234, 1.60978012e-011, 2.89807259e-240, 5.75532878e-061,\n",
      "       1.48406749e-175, 4.57461067e-005, 1.59244369e-161, 1.56494042e-031,\n",
      "       3.69399781e-101, 3.04816878e-129, 1.48442713e-279, 2.09234468e-068,\n",
      "       9.56898244e-245, 0.00000000e+000, 0.00000000e+000, 0.00000000e+000,\n",
      "       3.46746083e-101, 3.96283618e-005, 0.00000000e+000, 0.00000000e+000,\n",
      "       0.00000000e+000, 0.00000000e+000, 1.52835365e-002, 0.00000000e+000,\n",
      "       0.00000000e+000, 1.71351276e-102, 0.00000000e+000, 3.49826620e-151,\n",
      "       7.51159234e-011, 8.01002214e-002, 1.39487115e-196, 0.00000000e+000,\n",
      "       4.92165535e-185, 4.16757121e-003, 3.55436635e-213, 0.00000000e+000,\n",
      "       2.79067883e-124, 3.90991043e-012, 5.89384650e-286, 0.00000000e+000,\n",
      "       2.47495902e-137, 1.27838969e-268, 0.00000000e+000, 1.80806947e-001,\n",
      "       3.67564427e-062, 0.00000000e+000, 1.83569263e-048, 9.34393785e-009,\n",
      "       0.00000000e+000, 1.15729382e-045, 2.02084525e-127, 2.02084525e-127,\n",
      "       6.92931229e-010, 3.89372124e-116, 5.14218232e-026, 0.00000000e+000,\n",
      "       3.00839972e-048, 0.00000000e+000, 9.28091689e-003, 1.39745797e-158,\n",
      "       0.00000000e+000, 3.12580498e-071, 1.72313981e-127, 0.00000000e+000,\n",
      "       2.42477321e-005, 0.00000000e+000, 6.88049732e-015, 5.31366167e-008,\n",
      "       1.72145281e-117, 5.36158006e-035, 6.94984733e-209, 0.00000000e+000,\n",
      "       4.03583390e-049, 0.00000000e+000, 0.00000000e+000, 0.00000000e+000,\n",
      "       3.80473374e-072, 0.00000000e+000, 0.00000000e+000, 0.00000000e+000,\n",
      "       3.34251508e-026, 5.19216204e-048, 1.59025637e-160, 6.27953717e-034,\n",
      "       2.45106918e-098, 1.89876554e-099, 1.07196487e-293, 2.84866378e-036,\n",
      "       6.62918511e-308, 1.74995938e-010, 1.56496557e-011, 4.03668229e-044,\n",
      "       1.65678621e-143, 7.61336164e-141, 2.70126770e-001, 9.91397389e-102,\n",
      "       5.98110633e-122, 1.76776946e-139, 0.00000000e+000, 2.94833454e-070,\n",
      "       4.94099730e-003, 1.39841949e-038, 4.30647539e-041, 1.87424585e-008,\n",
      "       0.00000000e+000, 0.00000000e+000, 3.14983244e-096, 2.13034771e-100,\n",
      "       4.44920987e-050, 2.87135367e-009, 3.08789772e-080, 1.35972624e-104,\n",
      "       2.36288825e-045, 3.43325788e-020, 0.00000000e+000, 2.81807495e-082,\n",
      "       3.49419050e-304, 7.66107509e-020, 4.98401101e-089, 3.74719134e-003,\n",
      "       0.00000000e+000, 0.00000000e+000, 0.00000000e+000, 0.00000000e+000,\n",
      "       7.81065191e-003, 1.51060989e-002, 0.00000000e+000, 1.27117248e-016,\n",
      "       0.00000000e+000, 1.58636661e-008, 1.41670194e-003, 0.00000000e+000,\n",
      "       9.82320618e-167, 0.00000000e+000, 4.78230302e-005, 1.88117314e-303,\n",
      "       0.00000000e+000, 0.00000000e+000, 0.00000000e+000, 2.93913230e-148,\n",
      "       0.00000000e+000, 0.00000000e+000, 2.34977409e-022, 0.00000000e+000,\n",
      "       0.00000000e+000, 3.18430586e-085, 0.00000000e+000, 1.97584017e-018,\n",
      "       2.85793928e-196, 9.87932486e-064, 1.22149018e-279, 0.00000000e+000,\n",
      "       0.00000000e+000, 0.00000000e+000, 2.55770660e-016, 2.93913230e-148,\n",
      "       3.05717914e-180, 1.15560757e-073, 1.44781502e-004, 0.00000000e+000,\n",
      "       5.76515026e-257, 1.90675817e-284, 3.77465991e-002, 2.83999728e-162,\n",
      "       3.27875069e-142, 0.00000000e+000, 4.46788285e-029, 0.00000000e+000,\n",
      "       2.77488581e-188, 0.00000000e+000, 2.57126784e-028, 0.00000000e+000,\n",
      "       4.87784820e-149, 2.36574221e-198, 1.02981659e-189, 0.00000000e+000,\n",
      "       0.00000000e+000, 0.00000000e+000, 1.19514295e-002, 7.43471946e-260,\n",
      "       0.00000000e+000, 0.00000000e+000, 1.97789427e-141, 0.00000000e+000,\n",
      "       1.75262234e-312, 2.89781066e-001, 1.15627149e-214, 0.00000000e+000,\n",
      "       3.90991043e-012, 1.07167169e-006, 4.72071999e-003, 7.57205680e-007,\n",
      "       2.46867184e-216, 7.09131718e-024, 0.00000000e+000, 5.09335237e-171,\n",
      "       0.00000000e+000, 1.80021178e-083, 7.92450635e-001, 4.33652164e-076,\n",
      "       2.94665256e-071, 0.00000000e+000, 3.37488687e-127, 0.00000000e+000,\n",
      "       8.33171530e-079, 1.64983931e-167, 6.13340417e-202, 1.46312155e-012,\n",
      "       8.07879809e-210, 0.00000000e+000, 3.44262378e-013, 3.12180339e-053,\n",
      "       0.00000000e+000, 0.00000000e+000, 0.00000000e+000, 1.82981216e-288,\n",
      "       2.96115259e-052, 6.38297363e-041, 6.46741333e-037, 1.09340610e-247,\n",
      "       1.27322365e-058, 0.00000000e+000, 1.86482265e-050, 0.00000000e+000,\n",
      "       5.34959928e-050, 0.00000000e+000, 0.00000000e+000, 2.56325303e-021,\n",
      "       0.00000000e+000, 7.36261405e-001, 8.07911948e-062, 1.66969919e-202,\n",
      "       3.94741431e-290, 0.00000000e+000, 7.61336164e-141, 0.00000000e+000,\n",
      "       1.46749968e-310, 0.00000000e+000, 7.36916597e-278, 1.78260030e-099,\n",
      "       3.18904300e-178, 2.56082186e-109, 0.00000000e+000, 0.00000000e+000,\n",
      "       4.98401101e-089, 2.02158597e-009, 7.11810842e-059, 1.80021178e-083,\n",
      "       0.00000000e+000, 8.46219435e-254, 7.81513696e-073, 1.74995938e-010,\n",
      "       1.31264088e-185, 9.26661091e-022, 1.72145281e-117, 5.87067353e-001,\n",
      "       1.35083507e-197, 6.86636504e-097, 1.82887474e-289, 1.37820467e-014,\n",
      "       6.56891839e-001, 2.58863963e-039, 0.00000000e+000, 1.00074697e-146,\n",
      "       2.03597488e-013, 5.40023417e-081, 7.12049528e-116, 3.14983244e-096,\n",
      "       3.61312479e-083, 4.20955628e-128, 3.22561269e-018, 0.00000000e+000,\n",
      "       1.30989225e-059, 7.63775308e-120, 2.12024016e-231, 3.45853012e-003,\n",
      "       1.34604732e-046, 4.87632240e-114, 1.09415387e-261, 0.00000000e+000,\n",
      "       5.30182914e-109, 0.00000000e+000, 0.00000000e+000, 2.28120465e-278,\n",
      "       4.19781492e-117, 0.00000000e+000, 3.62465438e-003, 1.09591605e-010,\n",
      "       1.51190494e-003, 2.62462685e-230, 2.26867370e-306, 0.00000000e+000,\n",
      "       2.77553529e-147, 0.00000000e+000, 4.49553097e-021, 1.84856340e-291,\n",
      "       5.92660588e-007, 1.54852664e-008, 2.85843911e-121, 1.26493157e-004,\n",
      "       1.39841949e-038, 0.00000000e+000, 2.03664029e-008, 0.00000000e+000,\n",
      "       0.00000000e+000, 0.00000000e+000, 5.80102643e-091, 1.54852664e-008,\n",
      "       1.39820578e-320, 5.60723412e-122, 2.14324463e-121, 0.00000000e+000,\n",
      "       4.29954016e-082, 4.79651398e-113, 3.62776865e-105, 1.86906169e-213,\n",
      "       1.11383740e-003, 4.30647539e-041, 5.13843868e-142, 1.20664205e-040,\n",
      "       1.05780770e-003, 3.75616224e-106, 0.00000000e+000, 1.69717119e-046,\n",
      "       8.85356474e-177, 9.10323886e-152, 0.00000000e+000, 3.21871742e-042,\n",
      "       9.31072959e-130, 1.52466160e-271, 3.17079797e-048, 0.00000000e+000,\n",
      "       2.64295267e-048, 7.08362001e-081, 3.54898534e-002, 0.00000000e+000,\n",
      "       4.30576565e-103, 0.00000000e+000, 7.49510240e-005, 4.96407783e-229,\n",
      "       2.47734438e-145, 0.00000000e+000, 1.35706733e-023, 2.02581340e-126,\n",
      "       0.00000000e+000, 0.00000000e+000, 3.90991043e-012, 2.24762982e-015,\n",
      "       0.00000000e+000, 0.00000000e+000, 2.14324463e-121, 2.10627832e-150,\n",
      "       4.56990578e-082, 1.99271644e-282, 0.00000000e+000, 0.00000000e+000,\n",
      "       1.19514295e-002, 9.52435245e-160, 4.34786164e-171, 1.98856327e-191,\n",
      "       4.01424249e-262, 8.48419311e-030, 0.00000000e+000, 0.00000000e+000,\n",
      "       5.98725346e-022, 9.39253357e-004, 0.00000000e+000, 3.37048401e-214,\n",
      "       0.00000000e+000, 1.19514295e-002, 1.10600988e-265, 3.55436635e-213,\n",
      "       5.80774725e-313, 1.01872192e-258, 0.00000000e+000, 0.00000000e+000,\n",
      "       4.86600382e-096, 0.00000000e+000, 2.73539460e-303, 2.04106450e-031,\n",
      "       5.37972165e-131, 2.45106918e-098, 0.00000000e+000, 7.15390663e-080,\n",
      "       0.00000000e+000, 1.26020538e-150, 0.00000000e+000, 0.00000000e+000,\n",
      "       4.21241562e-304, 3.06325400e-134, 0.00000000e+000, 8.53485696e-291,\n",
      "       0.00000000e+000, 0.00000000e+000, 1.41216008e-143, 0.00000000e+000,\n",
      "       0.00000000e+000, 3.65243474e-149, 2.12024016e-231, 0.00000000e+000,\n",
      "       5.08785447e-164, 2.06466004e-170, 1.02577748e-001, 1.97789427e-141,\n",
      "       1.95590217e-309, 1.91248521e-203, 2.76767421e-095, 1.18037361e-007,\n",
      "       0.00000000e+000, 3.99807606e-001, 3.00483361e-008, 0.00000000e+000,\n",
      "       5.60362356e-209, 9.34393785e-009, 0.00000000e+000, 0.00000000e+000,\n",
      "       0.00000000e+000, 4.55879404e-016, 2.93978889e-099, 1.40671560e-026,\n",
      "       2.12530616e-248, 7.58791024e-119, 0.00000000e+000, 2.43755738e-018,\n",
      "       2.29409090e-084, 5.77064154e-275, 0.00000000e+000, 2.38285572e-277,\n",
      "       3.04816878e-129, 5.44066655e-186, 7.00806227e-029, 0.00000000e+000,\n",
      "       4.12957637e-037, 0.00000000e+000, 2.15220510e-009, 0.00000000e+000,\n",
      "       1.08931445e-022, 2.19451318e-013, 0.00000000e+000, 4.93064398e-058,\n",
      "       0.00000000e+000, 1.11594247e-007, 1.12075125e-092, 0.00000000e+000,\n",
      "       6.90239834e-060, 1.54852664e-008, 2.35605980e-077, 8.19540465e-154,\n",
      "       7.39304036e-051, 7.55350057e-001, 6.59138308e-105, 8.19027287e-117,\n",
      "       1.94093639e-002, 3.68043891e-182, 1.30659970e-065, 7.30316970e-054,\n",
      "       7.04439706e-099, 4.60791606e-222, 4.81620701e-045, 0.00000000e+000,\n",
      "       0.00000000e+000, 0.00000000e+000, 9.68429116e-034, 1.50051512e-069,\n",
      "       7.18537472e-032, 0.00000000e+000, 0.00000000e+000, 3.49826620e-151,\n",
      "       1.15819175e-155, 3.62475541e-223, 0.00000000e+000, 0.00000000e+000,\n",
      "       2.45106918e-098, 0.00000000e+000, 8.99721277e-002, 9.70223481e-025,\n",
      "       8.09743851e-150, 3.28943876e-244, 1.10877064e-300, 7.07041194e-315,\n",
      "       0.00000000e+000, 0.00000000e+000, 0.00000000e+000, 1.38920611e-281,\n",
      "       3.82502953e-122, 3.27875069e-142, 5.27559016e-067, 0.00000000e+000,\n",
      "       4.34365322e-025, 7.64215896e-149, 1.79621489e-022, 2.76956945e-192,\n",
      "       0.00000000e+000, 3.40929880e-309, 7.42743339e-189, 4.83906393e-108,\n",
      "       4.71629450e-200, 1.28731015e-055, 2.69241603e-023, 5.11230702e-100,\n",
      "       3.54378076e-081, 1.17717968e-015, 7.05765759e-118, 0.00000000e+000,\n",
      "       0.00000000e+000, 1.49542122e-091, 3.32841957e-067, 5.30846525e-095,\n",
      "       1.95660057e-011, 3.22655088e-233, 1.27838969e-268, 2.98380850e-044,\n",
      "       3.55822000e-004, 3.18071677e-047, 2.95011485e-273, 0.00000000e+000,\n",
      "       0.00000000e+000, 3.25632430e-288, 2.28157095e-258, 2.46469292e-301,\n",
      "       3.07609004e-113, 6.18955209e-090, 9.42434448e-070, 2.12024016e-231,\n",
      "       3.26887288e-235, 1.62558450e-026, 2.77488581e-188, 5.27635122e-115,\n",
      "       1.02713545e-271, 0.00000000e+000, 0.00000000e+000, 3.69920239e-001,\n",
      "       9.83047729e-214, 2.98697027e-036, 6.25258648e-001, 1.80431740e-009,\n",
      "       1.72558052e-011, 0.00000000e+000, 1.21233901e-264, 3.11348935e-149,\n",
      "       3.87840367e-137, 1.68766307e-042, 3.06065845e-297, 7.39304036e-051,\n",
      "       0.00000000e+000, 9.10950565e-055, 3.49902838e-037, 1.22657595e-019,\n",
      "       2.71235862e-002, 5.73557428e-019, 6.50444409e-305, 1.00923635e-088,\n",
      "       3.18192003e-004, 1.50307853e-108, 7.57175199e-021, 1.36968653e-114,\n",
      "       1.45662112e-088, 0.00000000e+000, 6.10963243e-120, 6.58073579e-281,\n",
      "       3.09821773e-100, 2.41019788e-009, 0.00000000e+000, 0.00000000e+000,\n",
      "       1.32125525e-005, 0.00000000e+000, 2.86132322e-224, 1.67720395e-032,\n",
      "       2.94578480e-001, 1.34604732e-046, 4.20589146e-059, 0.00000000e+000,\n",
      "       0.00000000e+000, 2.98697027e-036, 2.24623438e-266, 9.51299390e-001,\n",
      "       1.66843140e-001, 2.95396741e-057, 8.26692308e-002, 5.79463312e-086,\n",
      "       2.86854782e-128, 0.00000000e+000, 3.46345606e-059, 5.42114770e-077,\n",
      "       3.12700434e-120, 6.32274087e-111, 0.00000000e+000, 4.79928546e-100,\n",
      "       3.02291567e-281, 1.54148350e-156, 0.00000000e+000, 0.00000000e+000,\n",
      "       4.88485001e-036, 2.80274836e-218, 2.95396741e-057, 5.80102643e-091,\n",
      "       4.33652164e-076, 3.53700844e-040, 0.00000000e+000, 1.01284121e-113,\n",
      "       0.00000000e+000, 8.58213199e-076, 3.60748226e-189, 0.00000000e+000,\n",
      "       2.15761456e-084, 1.31928217e-087, 3.93842746e-153, 1.27873568e-116,\n",
      "       1.58690173e-020, 0.00000000e+000, 0.00000000e+000, 1.43883018e-005,\n",
      "       9.39253357e-004, 7.44175958e-001, 4.56990578e-082, 0.00000000e+000,\n",
      "       4.45977468e-184, 7.21210193e-090, 0.00000000e+000, 6.23600576e-084,\n",
      "       7.42848656e-163, 4.15509208e-320, 3.75866376e-212, 4.12957637e-037,\n",
      "       1.28695737e-010, 1.59089138e-321, 1.27322365e-058, 2.26661273e-225,\n",
      "       7.35502575e-019, 9.69118492e-253, 4.33652164e-076, 9.66432965e-001,\n",
      "       0.00000000e+000, 0.00000000e+000, 4.08618267e-104, 0.00000000e+000,\n",
      "       0.00000000e+000, 2.32054514e-141, 0.00000000e+000, 0.00000000e+000,\n",
      "       7.83952530e-305, 0.00000000e+000, 0.00000000e+000, 7.42848656e-163,\n",
      "       8.11009467e-114, 2.02364552e-087, 9.28862607e-056, 2.62054743e-308,\n",
      "       0.00000000e+000, 0.00000000e+000, 5.38832466e-140, 9.13891823e-059,\n",
      "       1.34914109e-026, 1.89790137e-293, 4.80212169e-025, 9.85233864e-012,\n",
      "       0.00000000e+000, 4.01373625e-022, 4.08880204e-123, 0.00000000e+000,\n",
      "       3.22655088e-233, 0.00000000e+000, 1.74667855e-007, 1.40915294e-002,\n",
      "       0.00000000e+000, 0.00000000e+000, 3.43816655e-190, 1.89790137e-293,\n",
      "       7.04663552e-002, 2.77488581e-188, 0.00000000e+000, 1.29414479e-193,\n",
      "       5.17744453e-207, 7.42034369e-009, 6.12755924e-005, 0.00000000e+000,\n",
      "       4.12316512e-011, 0.00000000e+000, 1.03060029e-191, 1.12203731e-001,\n",
      "       0.00000000e+000, 0.00000000e+000, 1.75595422e-017, 2.38231848e-035,\n",
      "       6.70721311e-043, 1.71767302e-028, 6.53445864e-270, 8.48809448e-289,\n",
      "       8.73757933e-198, 1.58690173e-020, 7.92521194e-168, 3.52440162e-277,\n",
      "       2.48881990e-281, 1.80021178e-083, 7.28883843e-030, 2.70922798e-019,\n",
      "       0.00000000e+000, 8.60856414e-082, 4.58679993e-022, 2.76098632e-190,\n",
      "       3.66909669e-144, 2.87232076e-038, 1.55902958e-268, 1.18874798e-297,\n",
      "       0.00000000e+000, 1.28611138e-082, 1.13388426e-008, 5.63848728e-254,\n",
      "       7.52427675e-220, 0.00000000e+000, 6.36507862e-025, 8.45367221e-002,\n",
      "       5.82150186e-291, 9.53500907e-004, 0.00000000e+000, 1.46422938e-128,\n",
      "       0.00000000e+000, 1.46796822e-038, 1.08931445e-022, 2.43357121e-307,\n",
      "       7.69046579e-070, 0.00000000e+000, 2.92392472e-051, 6.87160606e-045,\n",
      "       0.00000000e+000, 1.65678621e-143, 5.79463312e-086, 6.46448495e-018,\n",
      "       0.00000000e+000, 7.44782960e-193, 0.00000000e+000, 0.00000000e+000,\n",
      "       3.82502953e-122, 1.33704303e-024, 2.58863963e-039, 2.77488581e-188,\n",
      "       0.00000000e+000, 0.00000000e+000, 6.24555806e-004, 1.37751514e-117,\n",
      "       3.07201350e-022, 1.45397372e-001, 0.00000000e+000, 6.46448495e-018,\n",
      "       0.00000000e+000, 1.33484835e-138, 1.77137190e-147, 2.73653212e-017,\n",
      "       1.67163494e-111, 0.00000000e+000, 0.00000000e+000, 3.11368398e-028,\n",
      "       8.19335603e-095, 5.45109224e-091, 7.72316034e-197, 0.00000000e+000,\n",
      "       5.86698876e-066, 2.88495084e-113, 1.98316034e-058, 0.00000000e+000,\n",
      "       0.00000000e+000, 5.45524896e-265, 0.00000000e+000, 1.20991871e-082,\n",
      "       1.02339439e-116, 6.25258648e-001, 1.16893647e-194, 0.00000000e+000,\n",
      "       1.14587265e-001, 0.00000000e+000, 2.12670397e-050, 7.15390663e-080,\n",
      "       2.10215070e-220, 3.62111073e-001, 2.32669898e-003, 0.00000000e+000,\n",
      "       0.00000000e+000, 6.19447808e-095, 0.00000000e+000, 1.29414479e-193,\n",
      "       2.12429486e-233, 2.95122407e-182, 0.00000000e+000, 0.00000000e+000,\n",
      "       1.84955138e-070, 0.00000000e+000, 2.86132322e-224, 4.65809496e-212,\n",
      "       3.62111073e-001, 0.00000000e+000, 1.30989225e-059, 2.86234404e-253,\n",
      "       2.83682284e-084, 1.87076515e-005, 5.19216204e-048, 5.82025258e-049,\n",
      "       6.16671222e-010, 2.97410773e-301, 0.00000000e+000, 0.00000000e+000,\n",
      "       9.66291906e-098, 1.45113034e-048, 9.85233864e-012, 0.00000000e+000,\n",
      "       0.00000000e+000, 2.13394302e-120, 3.96505637e-030, 0.00000000e+000,\n",
      "       2.77302848e-168, 0.00000000e+000, 2.34977409e-022, 2.77488581e-188,\n",
      "       0.00000000e+000, 2.46922056e-086, 0.00000000e+000, 6.67578325e-001,\n",
      "       3.77465991e-002, 1.91565964e-240, 1.56494042e-031, 2.93913230e-148,\n",
      "       3.69824022e-297, 6.38297363e-041, 4.55278179e-141, 0.00000000e+000,\n",
      "       0.00000000e+000, 4.46868502e-121, 0.00000000e+000, 1.56607533e-138,\n",
      "       0.00000000e+000, 0.00000000e+000, 0.00000000e+000, 1.16893647e-194,\n",
      "       5.74052514e-009, 0.00000000e+000, 3.33335998e-009, 2.51371146e-040,\n",
      "       0.00000000e+000, 6.19535692e-127, 1.25602207e-111, 3.02291567e-281,\n",
      "       1.13388426e-008, 0.00000000e+000, 1.75219302e-131, 3.96657893e-306,\n",
      "       0.00000000e+000, 8.37281195e-241, 9.97438745e-011, 0.00000000e+000,\n",
      "       1.39499575e-033, 9.52435245e-160, 0.00000000e+000, 4.24222531e-013,\n",
      "       1.05935430e-241, 0.00000000e+000, 3.25934453e-093, 0.00000000e+000,\n",
      "       5.53295899e-019, 0.00000000e+000, 0.00000000e+000, 1.93435846e-294,\n",
      "       3.11368398e-028, 7.42848656e-163, 3.05717914e-180, 7.21210193e-090,\n",
      "       0.00000000e+000, 3.90991043e-012, 0.00000000e+000, 0.00000000e+000,\n",
      "       1.19599882e-014, 0.00000000e+000, 3.38135770e-115, 0.00000000e+000,\n",
      "       0.00000000e+000, 4.56984811e-096, 3.14692953e-003, 3.61588111e-004,\n",
      "       1.96070230e-142, 0.00000000e+000, 2.79434822e-057, 3.55822000e-004,\n",
      "       8.46219435e-254, 0.00000000e+000, 4.02326014e-086, 9.48624126e-089,\n",
      "       1.54965410e-088, 2.34977409e-022, 2.18464952e-207, 1.85799612e-132,\n",
      "       0.00000000e+000, 0.00000000e+000, 3.68085584e-029, 1.40527257e-109,\n",
      "       1.08640653e-197, 0.00000000e+000, 5.83615798e-021, 3.23674185e-130,\n",
      "       7.05765759e-118, 7.39304036e-051, 3.34015443e-013, 2.09647461e-297,\n",
      "       1.29009332e-090, 5.77064154e-275, 1.05143724e-086, 5.43515856e-139,\n",
      "       8.14635187e-120, 3.18071677e-047, 3.28202902e-146, 0.00000000e+000,\n",
      "       4.70133238e-172, 5.44066655e-186, 1.43775426e-236, 5.25802600e-032,\n",
      "       0.00000000e+000, 1.07117479e-014, 0.00000000e+000, 1.87641942e-278,\n",
      "       1.45056492e-002, 7.67401772e-090, 0.00000000e+000, 2.51871963e-079,\n",
      "       4.10324647e-309, 3.26887288e-235, 1.83841929e-069, 2.37076196e-079,\n",
      "       2.11309209e-001, 0.00000000e+000, 2.61285777e-171, 2.33895497e-116,\n",
      "       6.51087702e-162, 7.60591488e-114, 9.39228269e-014, 0.00000000e+000,\n",
      "       1.27995162e-246, 9.28862607e-056, 2.90798510e-250]))\n"
     ]
    }
   ],
   "source": [
    "# 2 sample independent t-test \n",
    "import scipy.stats as stats\n",
    "from scipy.stats import ttest_1samp\n",
    "print(stats.ttest_1samp(mydata['Item_Outlet_Sales'][mydata['Outlet_Type'] == 'Supermarket Type2'], mydata['Item_Outlet_Sales'][mydata['Outlet_Type'] == 'Supermarket Type3']))"
   ]
  }
 ],
 "metadata": {
  "kernelspec": {
   "display_name": "Python 3",
   "language": "python",
   "name": "python3"
  },
  "language_info": {
   "codemirror_mode": {
    "name": "ipython",
    "version": 3
   },
   "file_extension": ".py",
   "mimetype": "text/x-python",
   "name": "python",
   "nbconvert_exporter": "python",
   "pygments_lexer": "ipython3",
   "version": "3.8.2"
  }
 },
 "nbformat": 4,
 "nbformat_minor": 2
}
